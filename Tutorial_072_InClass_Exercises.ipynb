{
 "cells": [
  {
   "cell_type": "markdown",
   "metadata": {},
   "source": [
    "# In class exercise...\n",
    "* MI is biased in that small sample sizes lead to inaccurate estimates of PDFs, and that can sometimes lead to negative MI values (which should never happen in theory). \n",
    "* A common, and simple, approach, is to compute MI with shuffled condition labels (like randomization tests that we did many weeks back) and then subtract the shuffled MI from the actual MI. "
   ]
  },
  {
   "cell_type": "markdown",
   "metadata": {},
   "source": [
    "## Imports"
   ]
  },
  {
   "cell_type": "code",
   "execution_count": 1,
   "metadata": {},
   "outputs": [],
   "source": [
    "import numpy as np\n",
    "import matplotlib.pyplot as plt\n",
    "from sklearn.neighbors import KernelDensity\n",
    "import sys\n",
    "epsilon = sys.float_info.epsilon\n",
    "# also define the default font we'll use for figures. \n",
    "fig_font = {'fontname':'Arial', 'size':'20'}"
   ]
  },
  {
   "cell_type": "markdown",
   "metadata": {},
   "source": [
    "## First set up two arrays of data...make them correlated to some degree so that there is a reasonably high MI..."
   ]
  },
  {
   "cell_type": "code",
   "execution_count": 2,
   "metadata": {},
   "outputs": [
    {
     "name": "stdout",
     "output_type": "stream",
     "text": [
      "[ 0  1  2  3  4  5  6  7  8  9 10 11 12 13 14 15 16 17 18 19 20 21 22 23\n",
      " 24 25 26 27 28 29 30 31 32 33 34 35 36 37 38 39 40 41 42 43 44 45 46 47\n",
      " 48 49 50 51 52 53 54 55 56 57 58 59 60 61 62 63 64 65 66 67 68 69 70 71\n",
      " 72 73 74 75 76 77 78 79 80 81 82 83 84 85 86 87 88 89 90 91 92 93 94 95\n",
      " 96 97 98 99]\n",
      "[  0.   1.   2.   4.   4.   5.   7.   7.   8.  10.  10.  12.  12.  13.\n",
      "  15.  15.  16.  18.  18.  19.  21.  21.  22.  24.  24.  25.  27.  27.\n",
      "  29.  30.  30.  31.  32.  33.  34.  36.  37.  37.  39.  40.  40.  41.\n",
      "  42.  44.  44.  46.  46.  47.  49.  50.  51.  52.  52.  54.  55.  55.\n",
      "  57.  58.  58.  59.  60.  62.  62.  64.  65.  66.  66.  67.  69.  70.\n",
      "  71.  71.  72.  74.  75.  76.  77.  78.  78.  80.  81.  81.  83.  83.\n",
      "  85.  85.  87.  87.  89.  90.  90.  92.  92.  93.  95.  96.  97.  97.\n",
      "  98. 100.]\n"
     ]
    }
   ],
   "source": [
    "N=100\n",
    "x = np.arange(N)\n",
    "y = x+np.round(np.random.rand(N))\n",
    "print(x)\n",
    "print(y)"
   ]
  },
  {
   "cell_type": "code",
   "execution_count": 3,
   "metadata": {},
   "outputs": [],
   "source": [
    "def entropy(x):\n",
    "    \n",
    "    # figure out unique values of x - can be more than just 0s, 1s\n",
    "    uniquex = np.unique(x)\n",
    "\n",
    "    Hx = 0\n",
    "    for i in np.arange(len(uniquex)):\n",
    "        # probability that x==uniquex[i]\n",
    "        px = np.sum(x==uniquex[i])/len(x)    \n",
    "\n",
    "        # check for px==0 because log2(0) = -inf\n",
    "        if px!=0:\n",
    "            Hx += (-np.sum( px * np.log2(px+epsilon) ))  \n",
    "        else:\n",
    "            print('px is zero for value ', i)\n",
    "        \n",
    "    return Hx"
   ]
  },
  {
   "cell_type": "code",
   "execution_count": 4,
   "metadata": {},
   "outputs": [],
   "source": [
    "def condEntropy(x,y):\n",
    "    \n",
    "    Hxy=0\n",
    "    uniquex = np.unique(x)\n",
    "    uniquey = np.unique(y)\n",
    "\n",
    "    # loop over unique elements of y\n",
    "    for i in np.arange(len(uniquey)): \n",
    "\n",
    "        # probability that y==y(i) (prob of each y)\n",
    "        py = np.sum(y==uniquey[i]) / N\n",
    "\n",
    "        # then loop over all possible x's to compute entropy of x at each y\n",
    "        tmp=0\n",
    "        for j in np.arange(len(uniquex)):\n",
    "            px_y = np.sum((x==uniquex[j]) & (y==uniquey[i])) / np.sum(y==uniquey[i])    # e.g. prob x==1 when y==0\n",
    "            tmp += (-( px_y * np.log2(px_y+epsilon) ))                                     # entropy      \n",
    "\n",
    "        # then tally up entropy of x given each specific y multiplied by the probability of that y (py)\n",
    "        Hxy += py*tmp\n",
    "\n",
    "    return Hxy"
   ]
  },
  {
   "cell_type": "markdown",
   "metadata": {},
   "source": [
    "## Then compute the MI between the arrays. Can do two discrete arrays for simplicity, and import the entropy and conditional entropy functions from the tutorial."
   ]
  },
  {
   "cell_type": "code",
   "execution_count": 5,
   "metadata": {},
   "outputs": [
    {
     "name": "stdout",
     "output_type": "stream",
     "text": [
      "MI is:  6.083856189774683\n"
     ]
    }
   ],
   "source": [
    "Hx = entropy(x=x)\n",
    "Hxy = condEntropy(x=x,y=y)\n",
    "print('MI is: ', Hx-Hxy)"
   ]
  },
  {
   "cell_type": "markdown",
   "metadata": {},
   "source": [
    "## Now repeat the above operations, but shuffle the data arrays and repeat the analysis many times (~500-1000 times). Plot the distribution of MI values that you get."
   ]
  },
  {
   "cell_type": "code",
   "execution_count": 6,
   "metadata": {},
   "outputs": [
    {
     "data": {
      "image/png": "[encoded data removed]",
      "text/plain": [
       "<Figure size 432x288 with 1 Axes>"
      ]
     },
     "metadata": {},
     "output_type": "display_data"
    }
   ],
   "source": [
    "num_shuffle = 500\n",
    "tmp0 = np.zeros(N)\n",
    "tmp1 = np.zeros(N)\n",
    "Hx = np.zeros(num_shuffle)\n",
    "Hxy = np.zeros(num_shuffle)\n",
    "MI = np.zeros(num_shuffle)\n",
    "\n",
    "for i in np.arange(num_shuffle):\n",
    "    for j in np.arange(N):   \n",
    "        if np.random.rand(1) < .5:\n",
    "            tmp0[j] = x[j]\n",
    "            tmp1[j] = y[j]\n",
    "        else:\n",
    "            tmp0[j] = y[j]\n",
    "            tmp1[j] = x[j]\n",
    "    Hx[i] = entropy(x=tmp0)\n",
    "    Hxy[i] = condEntropy(x=tmp0,y=tmp1)\n",
    "    MI[i] = Hx[i] - Hxy[i]\n",
    "\n",
    "\n",
    "plt.hist(MI)\n",
    "plt.show()"
   ]
  },
  {
   "cell_type": "markdown",
   "metadata": {},
   "source": [
    "## Now subtract the mean of the shuffled MI values from your 'real' MI value...this will help correct for any bias that is introduced by a limited sample size"
   ]
  },
  {
   "cell_type": "code",
   "execution_count": 7,
   "metadata": {},
   "outputs": [
    {
     "data": {
      "text/plain": [
       "array([-0.09944, -0.01944, -0.01944,  0.00056,  0.06056,  0.00056,\n",
       "       -0.03944, -0.01944,  0.00056, -0.05944, -0.01944,  0.00056,\n",
       "        0.04056,  0.02056,  0.04056, -0.01944,  0.00056, -0.03944,\n",
       "       -0.01944, -0.05944, -0.01944, -0.01944, -0.01944, -0.01944,\n",
       "        0.00056, -0.03944,  0.00056,  0.04056, -0.01944, -0.03944,\n",
       "        0.02056, -0.07944,  0.00056,  0.04056,  0.02056, -0.07944,\n",
       "        0.02056, -0.01944,  0.00056, -0.05944,  0.02056, -0.01944,\n",
       "        0.00056, -0.03944,  0.02056,  0.04056,  0.02056, -0.01944,\n",
       "        0.00056,  0.00056, -0.01944,  0.00056, -0.03944, -0.03944,\n",
       "        0.06056, -0.05944, -0.03944, -0.01944, -0.05944,  0.00056,\n",
       "        0.00056, -0.03944,  0.10056, -0.01944, -0.01944,  0.00056,\n",
       "        0.02056, -0.05944,  0.12056,  0.04056, -0.05944,  0.00056,\n",
       "       -0.01944,  0.00056,  0.00056, -0.01944, -0.01944, -0.01944,\n",
       "        0.02056,  0.00056, -0.03944,  0.02056,  0.02056, -0.03944,\n",
       "       -0.09944, -0.03944,  0.00056, -0.01944, -0.09944,  0.08056,\n",
       "        0.00056,  0.10056, -0.01944,  0.04056,  0.00056,  0.02056,\n",
       "       -0.01944, -0.05944,  0.08056, -0.05944, -0.07944, -0.01944,\n",
       "        0.00056,  0.02056,  0.02056, -0.03944, -0.05944, -0.07944,\n",
       "        0.04056, -0.05944, -0.05944,  0.00056,  0.00056,  0.04056,\n",
       "        0.00056, -0.03944,  0.02056, -0.03944,  0.06056,  0.06056,\n",
       "        0.06056, -0.05944,  0.02056, -0.03944, -0.01944,  0.10056,\n",
       "        0.08056,  0.04056,  0.02056,  0.02056, -0.05944,  0.02056,\n",
       "        0.00056,  0.02056, -0.05944, -0.05944,  0.06056, -0.03944,\n",
       "        0.06056, -0.01944, -0.03944,  0.00056,  0.02056, -0.01944,\n",
       "        0.02056,  0.06056,  0.08056,  0.02056,  0.02056, -0.03944,\n",
       "        0.04056,  0.04056, -0.03944, -0.03944,  0.06056,  0.00056,\n",
       "        0.04056,  0.02056, -0.01944,  0.00056,  0.00056, -0.01944,\n",
       "       -0.01944, -0.01944, -0.03944, -0.03944,  0.10056, -0.05944,\n",
       "       -0.09944,  0.00056,  0.02056, -0.03944, -0.03944,  0.04056,\n",
       "       -0.01944,  0.00056,  0.02056,  0.08056,  0.00056,  0.04056,\n",
       "       -0.01944,  0.04056, -0.05944, -0.05944,  0.02056,  0.02056,\n",
       "       -0.05944, -0.09944, -0.05944,  0.02056, -0.03944,  0.14056,\n",
       "        0.08056, -0.03944,  0.04056,  0.00056,  0.04056, -0.01944,\n",
       "       -0.03944, -0.01944,  0.04056,  0.06056, -0.01944,  0.00056,\n",
       "       -0.01944, -0.01944,  0.00056, -0.03944,  0.00056,  0.00056,\n",
       "       -0.03944,  0.02056,  0.00056,  0.00056,  0.04056,  0.02056,\n",
       "       -0.01944,  0.06056,  0.06056,  0.02056,  0.00056,  0.06056,\n",
       "        0.06056,  0.04056,  0.02056,  0.06056,  0.06056,  0.04056,\n",
       "        0.00056, -0.03944,  0.04056,  0.10056, -0.03944,  0.06056,\n",
       "       -0.03944,  0.04056,  0.00056, -0.01944,  0.04056,  0.02056,\n",
       "        0.02056, -0.01944,  0.06056,  0.14056, -0.03944, -0.05944,\n",
       "        0.04056, -0.03944, -0.03944,  0.02056,  0.02056,  0.08056,\n",
       "       -0.03944,  0.08056, -0.01944, -0.01944, -0.01944,  0.00056,\n",
       "       -0.01944,  0.04056, -0.07944, -0.03944,  0.00056,  0.00056,\n",
       "        0.06056, -0.01944,  0.08056, -0.07944,  0.04056,  0.02056,\n",
       "       -0.09944,  0.02056, -0.01944,  0.02056,  0.04056,  0.00056,\n",
       "       -0.01944, -0.05944,  0.04056,  0.02056,  0.04056,  0.00056,\n",
       "       -0.03944,  0.00056, -0.01944,  0.00056,  0.00056, -0.05944,\n",
       "       -0.01944, -0.07944,  0.06056,  0.04056,  0.02056,  0.06056,\n",
       "        0.00056,  0.04056, -0.05944,  0.06056,  0.02056,  0.02056,\n",
       "       -0.01944,  0.06056, -0.01944,  0.04056,  0.02056, -0.05944,\n",
       "        0.02056,  0.02056, -0.03944,  0.06056,  0.02056,  0.04056,\n",
       "        0.00056,  0.08056,  0.02056,  0.00056,  0.08056,  0.02056,\n",
       "        0.00056,  0.08056,  0.04056, -0.03944,  0.00056, -0.03944,\n",
       "        0.08056, -0.11944, -0.03944, -0.05944, -0.03944,  0.02056,\n",
       "       -0.01944,  0.06056, -0.03944, -0.01944,  0.06056,  0.02056,\n",
       "       -0.09944, -0.01944, -0.03944,  0.02056, -0.03944,  0.02056,\n",
       "        0.00056, -0.03944, -0.01944,  0.06056, -0.07944,  0.08056,\n",
       "        0.02056,  0.02056, -0.01944, -0.03944,  0.02056,  0.00056,\n",
       "        0.02056, -0.01944, -0.01944,  0.08056,  0.04056,  0.00056,\n",
       "       -0.05944,  0.00056,  0.02056,  0.00056,  0.00056, -0.01944,\n",
       "       -0.01944, -0.01944,  0.00056,  0.02056,  0.06056, -0.01944,\n",
       "        0.04056, -0.03944,  0.06056,  0.04056, -0.01944, -0.03944,\n",
       "        0.08056,  0.02056,  0.02056,  0.02056,  0.02056,  0.04056,\n",
       "        0.02056,  0.02056,  0.04056, -0.03944,  0.06056,  0.04056,\n",
       "       -0.03944,  0.04056, -0.07944,  0.00056,  0.04056, -0.03944,\n",
       "       -0.03944, -0.07944, -0.01944, -0.05944, -0.01944, -0.01944,\n",
       "        0.04056,  0.04056, -0.01944,  0.02056,  0.00056, -0.07944,\n",
       "       -0.05944, -0.01944,  0.08056,  0.00056, -0.05944,  0.08056,\n",
       "       -0.03944,  0.02056, -0.01944, -0.03944, -0.01944, -0.07944,\n",
       "        0.06056, -0.01944,  0.10056, -0.01944, -0.03944, -0.01944,\n",
       "        0.02056,  0.02056,  0.02056,  0.04056,  0.00056,  0.00056,\n",
       "       -0.01944, -0.03944,  0.02056, -0.05944, -0.01944,  0.00056,\n",
       "        0.02056,  0.00056, -0.09944, -0.13944, -0.01944, -0.03944,\n",
       "        0.00056, -0.01944,  0.02056,  0.00056, -0.03944, -0.01944,\n",
       "       -0.05944, -0.03944,  0.02056, -0.07944, -0.01944,  0.04056,\n",
       "        0.04056, -0.01944, -0.07944,  0.02056, -0.03944,  0.08056,\n",
       "        0.02056,  0.02056,  0.04056,  0.06056, -0.01944, -0.03944,\n",
       "        0.10056,  0.02056,  0.06056, -0.07944, -0.05944,  0.02056,\n",
       "        0.00056,  0.08056, -0.03944,  0.00056, -0.01944,  0.02056,\n",
       "       -0.07944, -0.07944,  0.04056, -0.07944, -0.01944,  0.00056,\n",
       "        0.06056,  0.02056,  0.08056,  0.02056,  0.08056,  0.02056,\n",
       "        0.06056,  0.02056, -0.01944, -0.03944, -0.01944, -0.05944,\n",
       "       -0.07944,  0.08056])"
      ]
     },
     "execution_count": 7,
     "metadata": {},
     "output_type": "execute_result"
    }
   ],
   "source": [
    "MI-np.mean(MI)"
   ]
  }
 ],
 "metadata": {
  "kernelspec": {
   "display_name": "Python 3",
   "language": "python",
   "name": "python3"
  },
  "language_info": {
   "codemirror_mode": {
    "name": "ipython",
    "version": 3
   },
   "file_extension": ".py",
   "mimetype": "text/x-python",
   "name": "python",
   "nbconvert_exporter": "python",
   "pygments_lexer": "ipython3",
   "version": "3.6.5"
  }
 },
 "nbformat": 4,
 "nbformat_minor": 2
}
