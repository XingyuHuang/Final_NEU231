{
 "cells": [
  {
   "cell_type": "markdown",
   "metadata": {},
   "source": [
    "## EXERCISES\n",
    "\n",
    "### Vector Multiplication\n",
    "1. Produce 2 vectors, one with integers in the range [5,10] and the other [15,20] using the np.arange function\n",
    "1. Without using any functions from the numpy module\n",
    "    1. Compute the outer product of those vectors \n",
    "    1. Compute the \"trace\" of the resulting matrix\n",
    "    \n",
    "    ![trace](https://wikimedia.org/api/rest_v1/media/math/render/svg/3e5b6e82272fc5eeca6d510388e0a2bd0a6c6463)\n",
    "    \n",
    "    \n",
    "Complete the same items using numpy operations"
   ]
  },
  {
   "cell_type": "code",
   "execution_count": 1,
   "metadata": {},
   "outputs": [
    {
     "name": "stdout",
     "output_type": "stream",
     "text": [
      "[5 6 7 8 9]\n",
      "[15 16 17 18 19]\n",
      "[0 2 4 6 8]\n"
     ]
    }
   ],
   "source": [
    "#import numpy\n",
    "import numpy as np\n",
    "\n",
    "#make two vectors\n",
    "x=np.arange(5,10)\n",
    "y=np.arange(15,20)\n",
    "z=np.arange(0,10,2) #np.arange(start, stop, step)\n",
    "m=np.linspace(1,10,10)\n",
    "print(x)\n",
    "print(y)\n",
    "print(z)\n"
   ]
  },
  {
   "cell_type": "code",
   "execution_count": 2,
   "metadata": {},
   "outputs": [
    {
     "name": "stdout",
     "output_type": "stream",
     "text": [
      "outer product:\n"
     ]
    },
    {
     "data": {
      "text/plain": [
       "[[75, 80, 85, 90, 95],\n",
       " [90, 96, 102, 108, 114],\n",
       " [105, 112, 119, 126, 133],\n",
       " [120, 128, 136, 144, 152],\n",
       " [135, 144, 153, 162, 171]]"
      ]
     },
     "execution_count": 2,
     "metadata": {},
     "output_type": "execute_result"
    }
   ],
   "source": [
    "#A.Compute the outer product of those vectors\n",
    "\n",
    "t_out=[] #initialize an empty list\n",
    "\n",
    "assert (len(x)==len(y)) #make sure the length is the same\n",
    "\n",
    "for i in range(len(x)):\n",
    "    row=[]\n",
    "    for j in range(len(y)):\n",
    "        row.append(x[i]*y[j])\n",
    "    t_out.append(row)\n",
    "print(\"outer product:\")\n",
    "t_out"
   ]
  },
  {
   "cell_type": "code",
   "execution_count": 3,
   "metadata": {},
   "outputs": [
    {
     "name": "stdout",
     "output_type": "stream",
     "text": [
      "outer product:\n"
     ]
    },
    {
     "data": {
      "text/plain": [
       "array([[ 75,  80,  85,  90,  95],\n",
       "       [ 90,  96, 102, 108, 114],\n",
       "       [105, 112, 119, 126, 133],\n",
       "       [120, 128, 136, 144, 152],\n",
       "       [135, 144, 153, 162, 171]])"
      ]
     },
     "execution_count": 3,
     "metadata": {},
     "output_type": "execute_result"
    }
   ],
   "source": [
    "t1_out=np.outer(x,y)\n",
    "print(\"outer product:\")\n",
    "t1_out\n"
   ]
  },
  {
   "cell_type": "code",
   "execution_count": 4,
   "metadata": {},
   "outputs": [
    {
     "name": "stdout",
     "output_type": "stream",
     "text": [
      "outer product:\n"
     ]
    },
    {
     "data": {
      "text/plain": [
       "[[75, 90, 105, 120, 135],\n",
       " [80, 96, 112, 128, 144],\n",
       " [85, 102, 119, 136, 153],\n",
       " [90, 108, 126, 144, 162],\n",
       " [95, 114, 133, 152, 171]]"
      ]
     },
     "execution_count": 4,
     "metadata": {},
     "output_type": "execute_result"
    }
   ],
   "source": [
    "#A.Compute the outer product of those vectors\n",
    "\n",
    "assert(len(x)==len(y))\n",
    "\n",
    "p_out=[[x[i]*y[j] for i in range(len(x))] for j in range(len(y))]\n",
    "print(\"outer product:\")\n",
    "p_out"
   ]
  },
  {
   "cell_type": "code",
   "execution_count": 5,
   "metadata": {},
   "outputs": [
    {
     "name": "stdout",
     "output_type": "stream",
     "text": [
      "605\n"
     ]
    }
   ],
   "source": [
    "#Compute the \"trace\" of the resulting matrix\n",
    "T=[]\n",
    "for i in range(len(t1_out)):\n",
    "    T.append(t1_out[i][i])\n",
    "a=np.sum(T)\n",
    "print(a)"
   ]
  },
  {
   "cell_type": "markdown",
   "metadata": {},
   "source": [
    "### Matrix Multiplication\n",
    "* Two matricies can be multiplied if their inner dimensions match (eg. 2x3 * 3x5 -> 2x5). The best rule for working with and mutliplying matricies is to remember (rows x columns). This applies to both the dimensions of a matrix (a 2x3 matrix has 2 rows and 3 columns) as well as multiplication (you multiply the rows of the first matrix by the columns of the second). \n",
    "\n",
    "* When multiplying two matricies of dimension (M x N)*(N x P) the resulting matrix is (M x P). The upper element of the reslting matrix is the inner (or dot) product of the first row of the first matrix and the first column of the second matrix\n",
    "\n",
    "![two matrices](https://wikimedia.org/api/rest_v1/media/math/render/svg/16b1644351bc2041175b19cbc65da03ef78130c7)\n",
    "\n",
    "![store product in matrix C](https://wikimedia.org/api/rest_v1/media/math/render/svg/00ac0c831c365b7424cc43239aae8cebea27c56c)\n",
    "\n",
    "![matrix multiply](https://wikimedia.org/api/rest_v1/media/math/render/svg/3cfeccef1c8c7e6da0ddf08daed8dbf3c6f50c5e)\n",
    "\n",
    "for i = 1, ..., n and j = 1, ..., p.\n",
    "\n",
    "1. Make two matrices of random numbers (A and B). A should be a 4x3 matrix and B should be a 3x4 matrix. Multiply A by B using (to a resulting matrix C) using:\n",
    "    1. a conventional for-loop\n",
    "    1. list comprehension\n",
    "    1. numpy operator\n",
    "    \n",
    "2. After you have C, pull out the upper quadrant using fancy indexing, and then replace the main diagonal (upper left to lower right) with 0s. "
   ]
  },
  {
   "cell_type": "code",
   "execution_count": 6,
   "metadata": {},
   "outputs": [
    {
     "name": "stdout",
     "output_type": "stream",
     "text": [
      "[[0.13015705 0.97144612 0.17030483]\n",
      " [0.48289356 0.36352484 0.13767199]\n",
      " [0.76879501 0.72417403 0.1902008 ]\n",
      " [0.01196766 0.88856225 0.70311429]]\n",
      "[[0.89425914 0.2020949  0.6484442  0.7727864 ]\n",
      " [0.71210077 0.87587159 0.59972341 0.81107513]\n",
      " [0.49762081 0.90179311 0.33292895 0.81047196]]\n",
      "0.1301570460297623\n"
     ]
    }
   ],
   "source": [
    "#import numpy\n",
    "import numpy as np\n",
    "\n",
    "#make two matrics\n",
    "A=np.random.rand(4,3)\n",
    "B=np.random.rand(3,4)\n",
    "print(A)\n",
    "print(B)\n",
    "print(A[0,0])"
   ]
  },
  {
   "cell_type": "code",
   "execution_count": 7,
   "metadata": {},
   "outputs": [
    {
     "name": "stdout",
     "output_type": "stream",
     "text": [
      "Matrix Multiplication:\n"
     ]
    },
    {
     "data": {
      "text/plain": [
       "[[0.8929088874616908,\n",
       "  1.0307458646522123,\n",
       "  0.7236979697665487,\n",
       "  1.0265266830078237],\n",
       " [0.7592067377944683,\n",
       "  0.5401430541654332,\n",
       "  0.5769788682271249,\n",
       "  0.7795988157234732],\n",
       " [1.2978347249287685,\n",
       "  0.9611747820221783,\n",
       "  0.9961481340821767,\n",
       "  1.3356262927973894],\n",
       " [0.9933323496248033,\n",
       "  1.4147486629346069,\n",
       "  0.7747390392051818,\n",
       "  1.299793606581655]]"
      ]
     },
     "execution_count": 7,
     "metadata": {},
     "output_type": "execute_result"
    }
   ],
   "source": [
    "#A conventional for-loop\n",
    "C=[] #set an empty\n",
    "assert np.shape(A)[1]==np.shape(B)[0]\n",
    "\n",
    "for i in range(np.shape(A)[0]):\n",
    "    row1=[]\n",
    "    for j in range(np.shape(B)[1]):\n",
    "        #row2=[]\n",
    "        kk=0\n",
    "        for m in range(np.shape(A)[1]):\n",
    "            kk=kk+A[i,m]*B[m,j]\n",
    "        row1.append(kk)\n",
    "    C.append(row1)\n",
    "print('Matrix Multiplication:')\n",
    "C"
   ]
  },
  {
   "cell_type": "code",
   "execution_count": 8,
   "metadata": {},
   "outputs": [
    {
     "name": "stdout",
     "output_type": "stream",
     "text": [
      "Matrix Multiplication:\n"
     ]
    },
    {
     "data": {
      "text/plain": [
       "[[0.8929088874616908,\n",
       "  1.0307458646522123,\n",
       "  0.7236979697665487,\n",
       "  1.0265266830078237],\n",
       " [0.7592067377944683,\n",
       "  0.5401430541654332,\n",
       "  0.5769788682271249,\n",
       "  0.7795988157234732],\n",
       " [1.2978347249287685,\n",
       "  0.9611747820221783,\n",
       "  0.9961481340821767,\n",
       "  1.3356262927973894],\n",
       " [0.9933323496248033,\n",
       "  1.4147486629346069,\n",
       "  0.7747390392051818,\n",
       "  1.299793606581655]]"
      ]
     },
     "execution_count": 8,
     "metadata": {},
     "output_type": "execute_result"
    }
   ],
   "source": [
    "#A conventional for-loop\n",
    "C=[] #set an empty\n",
    "assert np.shape(A)[1]==np.shape(B)[0]\n",
    "\n",
    "for i in range(np.shape(A)[0]):\n",
    "    row1=[]\n",
    "    for j in range(np.shape(B)[1]):\n",
    "        row2=[]\n",
    "        for m in range(np.shape(A)[1]):\n",
    "            row2.append(A[i,m]*B[m,j])\n",
    "        row1.append(np.sum(row2))\n",
    "    C.append(row1)\n",
    "print('Matrix Multiplication:')\n",
    "C"
   ]
  },
  {
   "cell_type": "code",
   "execution_count": 9,
   "metadata": {},
   "outputs": [
    {
     "data": {
      "text/plain": [
       "array([[0.89290889, 1.03074586, 0.72369797, 1.02652668],\n",
       "       [0.75920674, 0.54014305, 0.57697887, 0.77959882],\n",
       "       [1.29783472, 0.96117478, 0.99614813, 1.33562629],\n",
       "       [0.99333235, 1.41474866, 0.77473904, 1.29979361]])"
      ]
     },
     "execution_count": 9,
     "metadata": {},
     "output_type": "execute_result"
    }
   ],
   "source": [
    "C1=np.matmul(A,B)\n",
    "C1"
   ]
  },
  {
   "cell_type": "code",
   "execution_count": null,
   "metadata": {},
   "outputs": [],
   "source": []
  }
 ],
 "metadata": {
  "kernelspec": {
   "display_name": "Python 3",
   "language": "python",
   "name": "python3"
  },
  "language_info": {
   "codemirror_mode": {
    "name": "ipython",
    "version": 3
   },
   "file_extension": ".py",
   "mimetype": "text/x-python",
   "name": "python",
   "nbconvert_exporter": "python",
   "pygments_lexer": "ipython3",
   "version": "3.6.5"
  }
 },
 "nbformat": 4,
 "nbformat_minor": 2
}
